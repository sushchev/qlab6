{
 "cells": [
  {
   "cell_type": "code",
   "execution_count": 1,
   "metadata": {},
   "outputs": [],
   "source": [
    "import numpy as np\n",
    "import scipy.linalg as la\n",
    "import matplotlib.pyplot as plt"
   ]
  },
  {
   "cell_type": "code",
   "execution_count": 2,
   "metadata": {},
   "outputs": [],
   "source": [
    "I = np.eye(2)\n",
    "\n",
    "\n",
    "Z = np.array([[1,  0],\n",
    "              [0, -1]])\n",
    "\n",
    "X = np.array([[0,  1],\n",
    "              [1,  0]])\n",
    "\n",
    "Y = np.array([[0,  -1j],\n",
    "              [1j,  0]])\n",
    "\n",
    "H = 1/2**0.5*np.array([[1,  1],\n",
    "                       [1, -1]])\n",
    "\n",
    "CNOT = np.eye(4)\n",
    "CNOT[-2:, -2:] = X"
   ]
  },
  {
   "attachments": {
    "image.png": {
     "image/png": "[encoded data removed]"
    }
   },
   "cell_type": "markdown",
   "metadata": {},
   "source": [
    "![image.png](attachment:image.png)"
   ]
  },
  {
   "cell_type": "code",
   "execution_count": 3,
   "metadata": {},
   "outputs": [],
   "source": [
    "# Гейты, синдромы и кубиты для исправления Z-ошибки\n",
    "correction_gates = [I, Z, Z, Z]\n",
    "syndroms = [(0, 0), (0, 1), (1, 0), (1, 1)]\n",
    "qubits_to_correct = [0, 2, 1, 0]"
   ]
  },
  {
   "cell_type": "code",
   "execution_count": 4,
   "metadata": {},
   "outputs": [],
   "source": [
    "# Наши операторы Крауса\n",
    "def E0(p):\n",
    "    return (1-p)**0.5*I\n",
    "\n",
    "def E1(p):\n",
    "    return (0.8*p)**0.5*Z\n",
    "\n",
    "def E2(p):\n",
    "    return (0.2*p)**0.5*np.array([[1, 0],\n",
    "                              [0, 0]])\n",
    "\n",
    "def E3(p):\n",
    "    return (0.2*p)**0.5*np.array([[0, 0],\n",
    "                              [0, 1]])\n",
    "\n",
    "\n",
    "\n",
    "E = [E0, E1, E2, E3]"
   ]
  },
  {
   "cell_type": "code",
   "execution_count": 5,
   "metadata": {},
   "outputs": [],
   "source": [
    "# фиделити\n",
    "def F(r, s):\n",
    "    return (np.trace(la.sqrtm(la.sqrtm(r)@s@la.sqrtm(r))))**2"
   ]
  },
  {
   "cell_type": "code",
   "execution_count": 6,
   "metadata": {},
   "outputs": [],
   "source": [
    "# 1-кубитное преобразование\n",
    "def gate_1d(state, U1, k):\n",
    "    dim = state.shape[0]\n",
    "    n = int(np.log2(dim))\n",
    "    b = np.zeros(dim, dtype=complex)\n",
    "    mask = 1 << n-1-k\n",
    "    for ind in range(dim):\n",
    "        for jk in range(2):\n",
    "            b[ind] += state[ind - (ind&mask)+(jk << n-1-k)]*U1[int((ind & mask) != 0), jk]\n",
    "    return b\n",
    "\n",
    "# 2-кубитное преобразование\n",
    "def gate_2d(state, U2, l, k): \n",
    "    dim = state.shape[0]\n",
    "    n = int(np.log2(dim))\n",
    "    b = np.zeros(dim, dtype=complex)\n",
    "    mask_k, mask_l = (1 << n-1-k) , (1 << n-1-l)\n",
    "    mask = mask_k + mask_l\n",
    "    for ind in range(dim):\n",
    "        for jk in range(2):\n",
    "            for jl in range(2):\n",
    "                b[ind] += state[ind - (ind&mask)+(jk << n-1-k)+(jl << n-1-l)]*U2[int((ind & mask_k) != 0) +\\\n",
    "                                                                        (int((ind & mask_l) != 0) << 1), jk+(jl<<1)]\n",
    "    return b\n",
    "\n",
    "# 3-кубитное преобразование\n",
    "def gate_3d(state, U3, p, l, k):\n",
    "    dim = state.shape[0]\n",
    "    n = int(np.log2(dim))\n",
    "    b = np.zeros(dim, dtype=complex)\n",
    "    mask_k, mask_l, mask_p = (1 << n-1-k) , (1 << n-1-l), (1 << n-1-p)\n",
    "    mask = mask_k + mask_l + mask_p\n",
    "    for ind in range(dim):\n",
    "        for jk in range(2):\n",
    "            for jl in range(2):\n",
    "                for jp in range(2):\n",
    "                    b[ind] += state[ind-(ind&mask)+(jk<<n-1-k)+(jl<<n-1-l)+(jp<<n-1-p)]*U3[int((ind & mask_k) != 0) +\\\n",
    "                                                                                 (int((ind & mask_l) != 0)<<1) +\\\n",
    "                                                                                 (int((ind & mask_p) != 0)<<2), jk+(jl<<1)+(jp<<2)]\n",
    "    return b"
   ]
  },
  {
   "cell_type": "code",
   "execution_count": 7,
   "metadata": {},
   "outputs": [],
   "source": [
    "# Состояние в результате кокретного исхода измерения подсистемы (ненормированная ВФ)\n",
    "def measure(bit3, bit4, psi):\n",
    "    psi_out = np.kron(np.eye(2**3), np.kron(np.roll(zero_state, bit3), np.roll(zero_state, bit4))) @ psi \n",
    "    return psi_out "
   ]
  },
  {
   "cell_type": "code",
   "execution_count": 8,
   "metadata": {},
   "outputs": [],
   "source": [
    "# Кодирование состояния\n",
    "def encode_state(psi):\n",
    "    psi = gate_2d(psi, CNOT, 0, 1)\n",
    "    psi = gate_2d(psi, CNOT, 0, 2)\n",
    "    psi = gate_1d(psi, H, 0)\n",
    "    psi = gate_1d(psi, H, 1)\n",
    "    psi = gate_1d(psi, H, 2)\n",
    "\n",
    "    return psi \n",
    "\n",
    "# Выполнение схемы для детектирования ошибки. Z-ошибка применяется к кубиту iz\n",
    "def run_circuit(psi_, iz=None):    \n",
    "    if iz!=None:\n",
    "        psi_ = gate_1d(psi_, Z, iz)\n",
    "    \n",
    "    psi_ = gate_1d(psi_, H, 0)\n",
    "    psi_ = gate_1d(psi_, H, 1)\n",
    "    psi_ = gate_1d(psi_, H, 2)\n",
    "\n",
    "    psi_ = gate_2d(psi_, CNOT, 0, 3)\n",
    "    psi_ = gate_2d(psi_, CNOT, 1, 3)\n",
    "    psi_ = gate_2d(psi_, CNOT, 0, 4)\n",
    "    psi_ = gate_2d(psi_, CNOT, 2, 4)\n",
    "\n",
    "    \n",
    "    psi_ = gate_1d(psi_, H, 0)\n",
    "    psi_ = gate_1d(psi_, H, 1)\n",
    "    psi_ = gate_1d(psi_, H, 2)\n",
    "    return psi_\n",
    "\n",
    "# Смешанное состояние после измерения с учетом всех возможных исходов\n",
    "def get_rho_out(psi_):\n",
    "# Применяем Z к кубитам, где возникла Z-ошибка, согласно синдромам\n",
    "    psis = [gate_1d(measure(*syndroms[i], psi_), correction_gates[i], qubits_to_correct[i])\\\n",
    "            for i in range(4)]\n",
    "# Учитывая все возможные исходы, итог засунем в одну матрицу плотности\n",
    "    rho_out = np.zeros((2**3, 2**3), dtype=complex)\n",
    "    for i in range(4):\n",
    "        rho_out += np.outer(psis[i], np.conj(psis[i]))\n",
    "    return rho_out\n",
    "\n",
    "def get_c_out(psi_):\n",
    "# Применяем Z к кубитам, где возникла Z-ошибка, согласно синдромам\n",
    "    psis = [gate_1d(measure(*syndroms[i], psi_), correction_gates[i], qubits_to_correct[i])\\\n",
    "            for i in range(4)]\n",
    "# Учитывая все возможные исходы, итог засунем в одну матрицу плотности\n",
    "    c_out = np.zeros((4, 2**3), dtype=complex)\n",
    "    for i in range(4):\n",
    "        c_out[i] = psis[i]\n",
    "    return c_out"
   ]
  },
  {
   "cell_type": "code",
   "execution_count": 9,
   "metadata": {},
   "outputs": [
    {
     "name": "stdout",
     "output_type": "stream",
     "text": [
      "Z-ошибка на 0-м кубите. Фиделити: (1-0j)\n",
      "Z-ошибка на 1-м кубите. Фиделити: (1-0j)\n",
      "Z-ошибка на 2-м кубите. Фиделити: (1-0j)\n"
     ]
    }
   ],
   "source": [
    "zero_state = np.zeros(2)\n",
    "zero_state[0] = 1\n",
    "\n",
    "psi_in = 1/2**0.5*zero_state - 1j/2**0.5*np.roll(zero_state, 1)\n",
    "# psi_in = (2/5)**0.5*zero_state- (3j/5)**0.5*np.roll(zero_state, 1)\n",
    "# Добавим кубиты детектирования ошибки\n",
    "psi = np.kron(psi_in, np.kron(zero_state, zero_state))\n",
    "\n",
    "psi_en = encode_state(psi)\n",
    "\n",
    "psi = np.kron(psi_en, np.kron(zero_state, zero_state))\n",
    "\n",
    "psi_ = run_circuit(psi)\n",
    "rho_out = get_rho_out(psi_)\n",
    "\n",
    "for iz in range(3):\n",
    "    psi_errz = run_circuit(psi, iz)\n",
    "    rho_out_errz = get_rho_out(psi_errz)\n",
    "    print('Z-ошибка на ' + str(iz) + '-м кубите. Фиделити: ' + str(np.round(F(rho_out_errz, rho_out), 2)))"
   ]
  },
  {
   "cell_type": "code",
   "execution_count": 10,
   "metadata": {},
   "outputs": [],
   "source": [
    "# Посмотрим на работу схемы без Z-ошибки, но с шумами. Будем использовать корневой подход, т.е. создадим матрицу из\n",
    "# векторов состояний, на которые подействовали все совокупности операторов Краусов\n",
    "N=40\n",
    "p_max = 0.7\n",
    "ps = np.linspace(0, p_max, N)\n",
    "Fs_corr = np.zeros(N)\n",
    "Fs_corr_ = np.zeros(N)\n",
    "for i_p in range(N):\n",
    "    p = ps[i_p]\n",
    "    c = np.zeros((4**3, 2**5), dtype=complex)\n",
    "    for i in range(4):\n",
    "        for j in range(4):\n",
    "            for k in range(4):\n",
    "                c[16*i+4*j+k] = gate_3d(psi, np.kron(E[i](p), np.kron(E[j](p), E[k](p))), 0, 1, 2)\n",
    "\n",
    "    rho_out_ = np.zeros((2**3, 2**3), dtype=complex)    \n",
    "    \n",
    "# К каждому полученному вектору состояния применим детектирование и исправление ошибки. Полученные матрицы\n",
    "# плотности сложим. Т.к. вектора состояния из c ненормированы, то нормировка итоговой матрицы плотности появится \n",
    "# в результате сложения всех полученных матриц плотности\n",
    "\n",
    "    for psi_ in c:\n",
    "        psi_ = run_circuit(psi_)\n",
    "        rho_out_ += get_rho_out(psi_)\n",
    "        c_out = get_c_out(psi_)\n",
    "        for i in range(4):\n",
    "            Fs_corr[i_p] += abs(np.conj(c_out[i])@psi_en)**2\n",
    "        \n",
    "    Fs_corr_[i_p] = abs(F(rho_out, rho_out_))"
   ]
  },
  {
   "cell_type": "code",
   "execution_count": 11,
   "metadata": {},
   "outputs": [],
   "source": [
    "# Посчитаем фиделити без кодов коррекции\n",
    "Fs = np.zeros(N)\n",
    "for i_p in range(N):\n",
    "    p = ps[i_p]\n",
    "    c = np.zeros((4, 2), dtype=complex)\n",
    "    for i in range(4):\n",
    "        c[i] =  E[i](p) @ psi_in\n",
    "        Fs[i_p] += abs(np.conj(c[i])@psi_in)**2"
   ]
  },
  {
   "cell_type": "code",
   "execution_count": 12,
   "metadata": {},
   "outputs": [
    {
     "data": {
      "image/png": "[encoded data removed]",
      "text/plain": [
       "<Figure size 432x288 with 1 Axes>"
      ]
     },
     "metadata": {
      "needs_background": "light"
     },
     "output_type": "display_data"
    }
   ],
   "source": [
    "# Изобразим зависимости графически\n",
    "plt.plot(ps, Fs, '.-',label='Без кодов коррекции')\n",
    "plt.plot(ps, Fs_corr, '.-', label='С кодами коррекции корневой подход')\n",
    "plt.plot(ps, Fs_corr_, '.-', label='С кодами коррекции Ульманн')\n",
    "plt.grid()\n",
    "plt.xlabel('p')\n",
    "plt.ylabel('F')\n",
    "plt.legend()\n",
    "plt.show()"
   ]
  }
 ],
 "metadata": {
  "kernelspec": {
   "display_name": "Python 3",
   "language": "python",
   "name": "python3"
  },
  "language_info": {
   "codemirror_mode": {
    "name": "ipython",
    "version": 3
   },
   "file_extension": ".py",
   "mimetype": "text/x-python",
   "name": "python",
   "nbconvert_exporter": "python",
   "pygments_lexer": "ipython3",
   "version": "3.8.5"
  }
 },
 "nbformat": 4,
 "nbformat_minor": 4
}
